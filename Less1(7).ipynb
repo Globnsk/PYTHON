{
 "cells": [
  {
   "cell_type": "code",
   "execution_count": 1,
   "id": "38868092-c503-405f-b6f0-61b03e4ad9c4",
   "metadata": {},
   "outputs": [
    {
     "data": {
      "text/plain": [
       "{'name': 'John', 'surname': 'Doe', 'age': '32'}"
      ]
     },
     "execution_count": 1,
     "metadata": {},
     "output_type": "execute_result"
    }
   ],
   "source": [
    "client_data = {\n",
    "'name' : 'John',\n",
    "'surname' : 'Doe',\n",
    "'age' : '32'}\n",
    "client_data"
   ]
  },
  {
   "cell_type": "code",
   "execution_count": 2,
   "id": "72e559ec-b893-418a-ada9-7cfc90bc050b",
   "metadata": {},
   "outputs": [
    {
     "data": {
      "text/plain": [
       "dict_keys(['name', 'surname', 'age'])"
      ]
     },
     "execution_count": 2,
     "metadata": {},
     "output_type": "execute_result"
    }
   ],
   "source": [
    "client_data.keys()\n"
   ]
  },
  {
   "cell_type": "code",
   "execution_count": 3,
   "id": "a6930b16-a656-4816-a7bd-26846a53835e",
   "metadata": {},
   "outputs": [
    {
     "data": {
      "text/plain": [
       "dict_items([('name', 'John'), ('surname', 'Doe'), ('age', '32')])"
      ]
     },
     "execution_count": 3,
     "metadata": {},
     "output_type": "execute_result"
    }
   ],
   "source": [
    "client_data.items()"
   ]
  },
  {
   "cell_type": "code",
   "execution_count": 7,
   "id": "4d8f7c18-e44f-4369-a0ca-73bf0b2d18bd",
   "metadata": {},
   "outputs": [
    {
     "name": "stdout",
     "output_type": "stream",
     "text": [
      "name: John\n",
      "surname: Doe\n",
      "age: 32\n"
     ]
    }
   ],
   "source": [
    "for k, v in client_data.items():\n",
    "    print(f'{k}: {v}')"
   ]
  },
  {
   "cell_type": "code",
   "execution_count": 8,
   "id": "99c710e9-5ffe-426a-8c7a-ebd83eb6c929",
   "metadata": {},
   "outputs": [],
   "source": [
    "client_data['heigt'] = 187"
   ]
  },
  {
   "cell_type": "code",
   "execution_count": 9,
   "id": "bb8aa3eb-7d5e-47e6-9ebe-775a0e7c3eb2",
   "metadata": {},
   "outputs": [
    {
     "data": {
      "text/plain": [
       "{'name': 'John', 'surname': 'Doe', 'age': '32', 'heigt': 187}"
      ]
     },
     "execution_count": 9,
     "metadata": {},
     "output_type": "execute_result"
    }
   ],
   "source": [
    "client_data"
   ]
  },
  {
   "cell_type": "markdown",
   "id": "9fa3924f-6946-42f7-a700-433aee418f08",
   "metadata": {},
   "source": [
    "***Модуль Random***"
   ]
  },
  {
   "cell_type": "code",
   "execution_count": 10,
   "id": "0614c644-882a-4f9e-806f-09b572188e0a",
   "metadata": {},
   "outputs": [],
   "source": [
    "import random\n"
   ]
  },
  {
   "cell_type": "code",
   "execution_count": 14,
   "id": "8ed116f4-6db0-432e-8fef-f0184ab65500",
   "metadata": {},
   "outputs": [
    {
     "data": {
      "text/plain": [
       "1"
      ]
     },
     "execution_count": 14,
     "metadata": {},
     "output_type": "execute_result"
    }
   ],
   "source": [
    "random.randint(0,10)"
   ]
  },
  {
   "cell_type": "markdown",
   "id": "e61449dd-456b-49ce-8069-9da2cdcffe97",
   "metadata": {},
   "source": [
    "**ФУНКЦИИ**"
   ]
  },
  {
   "cell_type": "code",
   "execution_count": null,
   "id": "b0da5b98-8dc1-48a7-b024-5c6bfbca9d6e",
   "metadata": {},
   "outputs": [],
   "source": []
  }
 ],
 "metadata": {
  "kernelspec": {
   "display_name": "Python 3 (ipykernel)",
   "language": "python",
   "name": "python3"
  },
  "language_info": {
   "codemirror_mode": {
    "name": "ipython",
    "version": 3
   },
   "file_extension": ".py",
   "mimetype": "text/x-python",
   "name": "python",
   "nbconvert_exporter": "python",
   "pygments_lexer": "ipython3",
   "version": "3.12.3"
  }
 },
 "nbformat": 4,
 "nbformat_minor": 5
}
