{
 "cells": [
  {
   "cell_type": "code",
   "execution_count": null,
   "id": "45c91ece-4137-4391-a0b4-5654965e4d62",
   "metadata": {},
   "outputs": [],
   "source": [
    "fghgfhgfh"
   ]
  }
 ],
 "metadata": {
  "kernelspec": {
   "display_name": "Python 3 (ipykernel)",
   "language": "python",
   "name": "python3"
  },
  "language_info": {
   "codemirror_mode": {
    "name": "ipython",
    "version": 3
   },
   "file_extension": ".py",
   "mimetype": "text/x-python",
   "name": "python",
   "nbconvert_exporter": "python",
   "pygments_lexer": "ipython3",
   "version": "3.12.3"
  }
 },
 "nbformat": 4,
 "nbformat_minor": 5
}
