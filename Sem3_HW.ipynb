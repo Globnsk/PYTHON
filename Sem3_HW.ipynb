{
  "nbformat": 4,
  "nbformat_minor": 0,
  "metadata": {
    "colab": {
      "provenance": [],
      "authorship_tag": "ABX9TyPrCfrC8o43yi6Wmw9ayiV3",
      "include_colab_link": true
    },
    "kernelspec": {
      "name": "python3",
      "display_name": "Python 3"
    },
    "language_info": {
      "name": "python"
    }
  },
  "cells": [
    {
      "cell_type": "markdown",
      "metadata": {
        "id": "view-in-github",
        "colab_type": "text"
      },
      "source": [
        "<a href=\"https://colab.research.google.com/github/Globnsk/PYTHON/blob/main/Sem3_HW.ipynb\" target=\"_parent\"><img src=\"https://colab.research.google.com/assets/colab-badge.svg\" alt=\"Open In Colab\"/></a>"
      ]
    },
    {
      "cell_type": "code",
      "execution_count": null,
      "metadata": {
        "id": "qlOq3lhs7LhI"
      },
      "outputs": [],
      "source": []
    },
    {
      "cell_type": "markdown",
      "source": [
        "###**Задача 1**\n"
      ],
      "metadata": {
        "id": "d6DPmJa47hgT"
      }
    },
    {
      "cell_type": "markdown",
      "source": [
        "####Данные находятся в файле kc_house_data.csv.\n",
        "\n",
        "####Считать данные с помощью pandas.\n",
        "\n",
        "####Сохраните первые 5 строк в переменную stroki.\n",
        "\n",
        "####Создать новый признак price_per_sq_lot, который будет содержать avg = среднюю стоимость за один кв. метр общей площади.\n",
        "\n",
        "####Создать новый признак delta_renovated, который будет содержать разницу в годах между годом реновации дома и годом постройки дома и сохраните в renv. Если реновации дома не было, то в новом признаке поставьте 0.\n",
        "\n",
        "####Создайте признаки года продажи, месяца продажи и сохраните в year_ch, month_ch.\n",
        "\n",
        "####Удалите признаки date, zipcode, lat, long и сохраните в new."
      ],
      "metadata": {
        "id": "X2zvIToc7vQE"
      }
    },
    {
      "cell_type": "code",
      "source": [
        "import pandas as pd\n",
        "df = pd.read_csv(\"kc_house_data.csv\")\n",
        "stroki = (df.head())\n",
        "avg = df['price_per_sq_lot'] = df['price'] / df['sqft_lot']\n",
        "# Создание признака delta_renovared\n",
        "df['delta_renovared'] = df['yr_renovated'] - df['yr_built']\n",
        "renv = df['delta_renovared'] = df['delta_renovared'].apply(lambda x: x if x > 0 else 0)\n",
        "#print(renv)\n",
        "# Создание признаков года и месяца продажи\n",
        "year_ch = df['year_ch'] = pd.to_datetime(df['date']).dt.year.astype(int)\n",
        "month_ch = df['month_ch'] = pd.to_datetime(df['date']).dt.month.astype(int)\n",
        "#print(year_ch)\n",
        "#print(month_ch)\n",
        "# Удаление признаков\n",
        "new = df.drop(columns = ['date', 'zipcode', 'lat', 'long'], inplace = True)\n",
        "#print(new)"
      ],
      "metadata": {
        "id": "r1Xh3u3x8ACI"
      },
      "execution_count": null,
      "outputs": []
    }
  ]
}