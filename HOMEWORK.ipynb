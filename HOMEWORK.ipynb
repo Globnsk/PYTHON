{
  "nbformat": 4,
  "nbformat_minor": 0,
  "metadata": {
    "colab": {
      "provenance": [],
      "toc_visible": true,
      "authorship_tag": "ABX9TyMEGyxpqtujtayDRipu/9tO",
      "include_colab_link": true
    },
    "kernelspec": {
      "name": "python3",
      "display_name": "Python 3"
    },
    "language_info": {
      "name": "python"
    }
  },
  "cells": [
    {
      "cell_type": "markdown",
      "metadata": {
        "id": "view-in-github",
        "colab_type": "text"
      },
      "source": [
        "<a href=\"https://colab.research.google.com/github/Globnsk/PYTHON/blob/main/HOMEWORK.ipynb\" target=\"_parent\"><img src=\"https://colab.research.google.com/assets/colab-badge.svg\" alt=\"Open In Colab\"/></a>"
      ]
    },
    {
      "cell_type": "markdown",
      "source": [
        "Домашняя работа. Задание 44.\n",
        "В ячейке ниже представлен код генерирующий DataFrame, которая состоит всего из 1 столбца. Ваша задача перевести его в one hot вид. Сможете ли вы это сделать без get_dummies?"
      ],
      "metadata": {
        "id": "g6fvWRGRzVnp"
      }
    },
    {
      "cell_type": "code",
      "execution_count": 16,
      "metadata": {
        "colab": {
          "base_uri": "https://localhost:8080/"
        },
        "id": "8b6iMyaRy7H8",
        "outputId": "e68a3408-2742-4ff8-a948-8f04b3352afe"
      },
      "outputs": [
        {
          "output_type": "stream",
          "name": "stdout",
          "text": [
            "    human  robot\n",
            "0       1      0\n",
            "1       0      1\n",
            "2       1      0\n",
            "3       1      0\n",
            "4       1      0\n",
            "5       0      1\n",
            "6       1      0\n",
            "7       1      0\n",
            "8       1      0\n",
            "9       0      1\n",
            "10      0      1\n",
            "11      0      1\n",
            "12      0      1\n",
            "13      1      0\n",
            "14      0      1\n",
            "15      0      1\n",
            "16      0      1\n",
            "17      0      1\n",
            "18      1      0\n",
            "19      1      0\n"
          ]
        }
      ],
      "source": [
        "# Вариант 1\n",
        "import random\n",
        "import pandas as pd\n",
        "\n",
        "lst = ['robot'] *10\n",
        "lst += ['human'] * 10\n",
        "random.shuffle(lst)\n",
        "\n",
        "data = pd.DataFrame({'whoAmI': lst})\n",
        "#data.head()\n",
        "\n",
        "data['tmp'] = 1\n",
        "data.set_index([data.index, 'whoAmI'], inplace=True)\n",
        "data = data.unstack(level=-1, fill_value = 0)\n",
        "data.columns = data.columns.droplevel()\n",
        "data.columns.name = None\n",
        "print(data)"
      ]
    },
    {
      "cell_type": "code",
      "source": [
        "#Вариант 2\n",
        "import pandas as pd\n",
        "import random\n",
        "\n",
        "lst = ['robot'] * 10\n",
        "lst += ['human'] * 10\n",
        "random.shuffle(lst)\n",
        "\n",
        "data = pd.DataFrame(lst)\n",
        "data = pd.get_dummies(data)\n",
        "data = data.astype(int)\n",
        "\n",
        "print(data)"
      ],
      "metadata": {
        "colab": {
          "base_uri": "https://localhost:8080/"
        },
        "id": "yC_4GfEY0iF1",
        "outputId": "33f01f6c-30f2-4e19-dd4b-8d9e52264805"
      },
      "execution_count": 26,
      "outputs": [
        {
          "output_type": "stream",
          "name": "stdout",
          "text": [
            "    0_human  0_robot\n",
            "0         1        0\n",
            "1         1        0\n",
            "2         0        1\n",
            "3         0        1\n",
            "4         0        1\n",
            "5         0        1\n",
            "6         0        1\n",
            "7         1        0\n",
            "8         1        0\n",
            "9         1        0\n",
            "10        0        1\n",
            "11        1        0\n",
            "12        1        0\n",
            "13        0        1\n",
            "14        1        0\n",
            "15        1        0\n",
            "16        0        1\n",
            "17        0        1\n",
            "18        0        1\n",
            "19        1        0\n"
          ]
        }
      ]
    }
  ]
}