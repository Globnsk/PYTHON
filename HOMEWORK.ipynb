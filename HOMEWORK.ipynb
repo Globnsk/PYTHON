{
  "nbformat": 4,
  "nbformat_minor": 0,
  "metadata": {
    "colab": {
      "provenance": [],
      "authorship_tag": "ABX9TyMBqp32HH1UUL54pH5RiAuG",
      "include_colab_link": true
    },
    "kernelspec": {
      "name": "python3",
      "display_name": "Python 3"
    },
    "language_info": {
      "name": "python"
    }
  },
  "cells": [
    {
      "cell_type": "markdown",
      "metadata": {
        "id": "view-in-github",
        "colab_type": "text"
      },
      "source": [
        "<a href=\"https://colab.research.google.com/github/Globnsk/PYTHON/blob/main/HOMEWORK.ipynb\" target=\"_parent\"><img src=\"https://colab.research.google.com/assets/colab-badge.svg\" alt=\"Open In Colab\"/></a>"
      ]
    },
    {
      "cell_type": "markdown",
      "source": [
        "Домашняя работа. Задание 44.\n",
        "В ячейке ниже представлен код генерирующий DataFrame, которая состоит всего из 1 столбца. Ваша задача перевести его в one hot вид. Сможете ли вы это сделать без get_dummies?"
      ],
      "metadata": {
        "id": "g6fvWRGRzVnp"
      }
    },
    {
      "cell_type": "code",
      "execution_count": 1,
      "metadata": {
        "colab": {
          "base_uri": "https://localhost:8080/"
        },
        "id": "8b6iMyaRy7H8",
        "outputId": "0380b655-3364-444f-eaab-b9e625ffc88d"
      },
      "outputs": [
        {
          "output_type": "stream",
          "name": "stdout",
          "text": [
            "    human  robot\n",
            "0       1      0\n",
            "1       1      0\n",
            "2       0      1\n",
            "3       0      1\n",
            "4       1      0\n",
            "5       1      0\n",
            "6       1      0\n",
            "7       0      1\n",
            "8       1      0\n",
            "9       0      1\n",
            "10      1      0\n",
            "11      0      1\n",
            "12      1      0\n",
            "13      0      1\n",
            "14      0      1\n",
            "15      0      1\n",
            "16      0      1\n",
            "17      1      0\n",
            "18      0      1\n",
            "19      1      0\n"
          ]
        }
      ],
      "source": [
        "# Вариант 1\n",
        "import random\n",
        "import pandas as pd\n",
        "\n",
        "lst = ['robot'] *10\n",
        "lst += ['human'] * 10\n",
        "random.shuffle(lst)\n",
        "\n",
        "data = pd.DataFrame({'whoAmI': lst})\n",
        "#data.head()\n",
        "\n",
        "data['tmp'] = 1\n",
        "data.set_index([data.index, 'whoAmI'], inplace=True)\n",
        "data = data.unstack(level=-1, fill_value = 0).astype(int)\n",
        "data.columns = data.columns.droplevel()\n",
        "data.columns.name = None\n",
        "print(data)"
      ]
    },
    {
      "cell_type": "code",
      "source": [
        "#Вариант 2\n",
        "import pandas as pd\n",
        "import random\n",
        "\n",
        "lst = ['robot'] * 10\n",
        "lst += ['human'] * 10\n",
        "random.shuffle(lst)\n",
        "\n",
        "data = pd.DataFrame({'whoAmI': lst})\n",
        "\n",
        "data = pd.get_dummies(data, columns=['whoAmI'])\n",
        "#data = data.unstack(level=-1, fill_value = 0).astype(int)\n",
        "\n",
        "print(data)"
      ],
      "metadata": {
        "colab": {
          "base_uri": "https://localhost:8080/"
        },
        "id": "yC_4GfEY0iF1",
        "outputId": "c96259a9-dab7-4052-e562-a65efdbdec24"
      },
      "execution_count": 10,
      "outputs": [
        {
          "output_type": "stream",
          "name": "stdout",
          "text": [
            "    whoAmI_human  whoAmI_robot\n",
            "0           True         False\n",
            "1           True         False\n",
            "2           True         False\n",
            "3           True         False\n",
            "4          False          True\n",
            "5           True         False\n",
            "6           True         False\n",
            "7          False          True\n",
            "8           True         False\n",
            "9          False          True\n",
            "10         False          True\n",
            "11          True         False\n",
            "12         False          True\n",
            "13         False          True\n",
            "14         False          True\n",
            "15          True         False\n",
            "16         False          True\n",
            "17         False          True\n",
            "18         False          True\n",
            "19          True         False\n"
          ]
        }
      ]
    }
  ]
}