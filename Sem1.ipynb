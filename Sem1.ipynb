{
 "cells": [
  {
   "cell_type": "markdown",
   "id": "83f0d088-e7d1-4bf4-b737-48beb8aa97fb",
   "metadata": {},
   "source": [
    "# Задание 1\n",
    "##  1.1 Соедините 2 словаря в 1"
   ]
  },
  {
   "cell_type": "code",
   "execution_count": 1,
   "id": "7aaa63e7-96f7-45cc-b739-cfde6c8d8003",
   "metadata": {},
   "outputs": [
    {
     "data": {
      "text/plain": [
       "{'One': 1, 'Two': 2, 'Three': 3, 'Four': 4, 'Five': 5, 'Six': 6}"
      ]
     },
     "execution_count": 1,
     "metadata": {},
     "output_type": "execute_result"
    }
   ],
   "source": [
    "dict1 = {'One': 1, 'Two': 2, 'Three': 3}\n",
    "dict2 = {'Four': 4, 'Five': 5, 'Six': 6}\n",
    "dict1.update(dict2)\n",
    "dict1"
   ]
  },
  {
   "cell_type": "markdown",
   "id": "00bf852b-ea9f-434c-9b7d-61776a24be91",
   "metadata": {},
   "source": [
    "## 1.2 Напишите функцию, объединяюшую 2 словаря"
   ]
  },
  {
   "cell_type": "code",
   "execution_count": 2,
   "id": "eb28cc39-e834-45c6-b6b2-ac5d9005f189",
   "metadata": {},
   "outputs": [
    {
     "data": {
      "text/plain": [
       "{'One': 1, 'Two': 2, 'Three': 3, 'Four': 4, 'Five': 5, 'Six': 6}"
      ]
     },
     "execution_count": 2,
     "metadata": {},
     "output_type": "execute_result"
    }
   ],
   "source": [
    "def unite(dict1, dict2):\n",
    "    dict1.update(dict2)\n",
    "    return dict1\n",
    "dict1 = {'One': 1, 'Two': 2, 'Three': 3}\n",
    "dict2 = {'Four': 4, 'Five': 5, 'Six': 6}\n",
    "unite(dict1, dict2)\n",
    "    "
   ]
  },
  {
   "cell_type": "markdown",
   "id": "2f973d01-78bd-416e-91da-da322fc9d626",
   "metadata": {},
   "source": [
    "# Задание 2"
   ]
  },
  {
   "cell_type": "markdown",
   "id": "4d56d9be-54b6-47f6-82e8-8241a4dabb3c",
   "metadata": {},
   "source": [
    "### Напишите функцию, которая из двух списков, делает один словарь, где элементы из первого списка - ключи, а элементы из второго списка - значения\n",
    "### Используйте аннотирование типов"
   ]
  },
  {
   "cell_type": "markdown",
   "id": "000fb337-f158-4f48-9c64-c4704eb5094d",
   "metadata": {},
   "source": [
    "### 2.1 Используя цикл for"
   ]
  },
  {
   "cell_type": "code",
   "execution_count": 6,
   "id": "6b08f1b8-e65d-4830-9721-08c0e9d2ac56",
   "metadata": {},
   "outputs": [
    {
     "data": {
      "text/plain": [
       "{'One': 1, 'Two': 2, 'Three': 3}"
      ]
     },
     "execution_count": 6,
     "metadata": {},
     "output_type": "execute_result"
    }
   ],
   "source": [
    "keys = ['One', 'Two', 'Three']\n",
    "values = [1, 2, 3]\n",
    "def make_dict(ks, vs):\n",
    "    d = {}\n",
    "    for i in range(len(ks)):\n",
    "        d.update({ks[i]: vs[i]})\n",
    "    return d\n",
    "make_dict(keys, values)"
   ]
  },
  {
   "cell_type": "markdown",
   "id": "1a96a7fc-6646-4c77-97ad-6510197b5cf0",
   "metadata": {},
   "source": [
    "### 2.2 Используя dict comprehensions"
   ]
  },
  {
   "cell_type": "code",
   "execution_count": 7,
   "id": "5886b826-487f-469e-a812-87099e1719a5",
   "metadata": {},
   "outputs": [
    {
     "data": {
      "text/plain": [
       "{'One': 1, 'Two': 2, 'Three': 3}"
      ]
     },
     "execution_count": 7,
     "metadata": {},
     "output_type": "execute_result"
    }
   ],
   "source": [
    "keys = ['One', 'Two', 'Three']\n",
    "values = [1, 2, 3]\n",
    "dict = {keys[i]: values[i] for i in range(len(keys))}\n",
    "dict"
   ]
  },
  {
   "cell_type": "markdown",
   "id": "16d90b94-9c66-4848-a1d1-8b63563a2c95",
   "metadata": {},
   "source": [
    "## Задание 3"
   ]
  },
  {
   "cell_type": "markdown",
   "id": "76216891-4c21-468b-bcf5-2226f306797d",
   "metadata": {},
   "source": [
    "### Извлеките только два ключа name и age из представленного словаря"
   ]
  },
  {
   "cell_type": "markdown",
   "id": "8eb7461f-e81a-4f99-8e38-526455e8883c",
   "metadata": {},
   "source": [
    "### 3.1 Напишите функцию с циклом for"
   ]
  },
  {
   "cell_type": "code",
   "execution_count": 11,
   "id": "9485ccbd-5647-4fde-a1e1-989396d45f0b",
   "metadata": {},
   "outputs": [
    {
     "data": {
      "text/plain": [
       "{'name': 'John', 'city': 'Moscow'}"
      ]
     },
     "execution_count": 11,
     "metadata": {},
     "output_type": "execute_result"
    }
   ],
   "source": [
    "client_dict = {'name': 'John', 'age': 25, 'salary': 5000, 'city': 'Moscow'}\n",
    "def extract(cd, extr_keys):\n",
    "    extr_dict ={}\n",
    "    for i in extr_keys:\n",
    "        extr_dict.update({i: cd[i]})\n",
    "    return extr_dict\n",
    "extract(client_dict, ['name', 'city'])"
   ]
  },
  {
   "cell_type": "markdown",
   "id": "43b7ba9b-4a9d-4644-b994-49c918b65abc",
   "metadata": {},
   "source": [
    "### 3.2 Используя dict comprehensions\n"
   ]
  },
  {
   "cell_type": "code",
   "execution_count": 14,
   "id": "9cc56597-4d14-470a-9754-fed28b95d5c9",
   "metadata": {},
   "outputs": [
    {
     "data": {
      "text/plain": [
       "{'name': 'John', 'age': 25}"
      ]
     },
     "execution_count": 14,
     "metadata": {},
     "output_type": "execute_result"
    }
   ],
   "source": [
    "client_dict = {'name': 'John', 'age': 25, 'salary': 5000, 'city': 'Moscow'}\n",
    "extr_dict = {k: client_dict[k] for k in ['name', 'age']} \n",
    "extr_dict"
   ]
  },
  {
   "cell_type": "markdown",
   "id": "e1be77f0-3557-48db-8645-0f012a24580c",
   "metadata": {},
   "source": [
    "## Задание 4"
   ]
  },
  {
   "cell_type": "markdown",
   "id": "4e2968cc-8da8-417d-867e-73c8dea795b0",
   "metadata": {},
   "source": [
    "### 4.1 Сгенерируйте случайные целые числа от 0 до 100 в количестве 5 штук с помощью модуля random"
   ]
  },
  {
   "cell_type": "markdown",
   "id": "32fc7d41-dc18-4595-b38a-98766842e55c",
   "metadata": {},
   "source": [
    "#### - Зафиксируйте псевдогенерацию, чтобы сгенерированные значения всегда были одинаковые\n"
   ]
  },
  {
   "cell_type": "markdown",
   "id": "2817c90a-74c3-4335-8348-f1de2832d289",
   "metadata": {},
   "source": [
    "#### - Используйте list comprehensions"
   ]
  },
  {
   "cell_type": "code",
   "execution_count": 16,
   "id": "f54795ed-f0f9-4ead-98f3-a09375d7e895",
   "metadata": {},
   "outputs": [
    {
     "data": {
      "text/plain": [
       "[60, 78, 19, 32, 38]"
      ]
     },
     "execution_count": 16,
     "metadata": {},
     "output_type": "execute_result"
    }
   ],
   "source": [
    "import random as rd\n",
    "# rd.seed(8)\n",
    "data = [rd.randint(0,100) for i in range(5)]\n",
    "data"
   ]
  },
  {
   "cell_type": "markdown",
   "id": "3e2f2ec6-9461-4579-84c1-3dc97674772f",
   "metadata": {},
   "source": [
    "## 4.2 Напишите генератор\n",
    "Генератор на вход принимает список с данными о клиенте (данные \n",
    "из пункта 4.1)\n",
    "Внутри генератора реализуйте обход по списку с данными\n",
    "На каждой итерации генератор будет возвращать кортеж из двух \n",
    "элементов:\n",
    "1. данные по клиенту (в зависимости от итерации, на 0 итерации \n",
    "вернется 0 элемент, на 1 итерации вернется 1 элемент и тд)\n",
    "2. целочисленное значение, которое показывает, сколько секунд \n",
    "прошло с предыдущей итерации\n",
    "Примечание: секунды, которые возвращаются должны показывать время не \n",
    "с начала запуска генератора, а именно то время, которое прошло с \n",
    "предыдущей итерации. А значит время на первой итерации должно \n",
    "равняться 0.\n",
    "Используйте функцию time из модуля time для подсчета времени.\n",
    "Чтобы проверить работу таймера, запустите проход по \n",
    "генератору в цикле с time.sleep(2)"
   ]
  },
  {
   "cell_type": "code",
   "execution_count": 18,
   "id": "45995d62-c4cf-4f44-8be7-4d1f38224cae",
   "metadata": {},
   "outputs": [
    {
     "name": "stdout",
     "output_type": "stream",
     "text": [
      "(60, 0)\n",
      "(78, 2)\n",
      "(19, 2)\n",
      "(32, 2)\n",
      "(38, 2)\n"
     ]
    }
   ],
   "source": [
    "import time as tm\n",
    "def gen1(data):\n",
    "    last_time = None\n",
    "    for i in data:\n",
    "        current_time = tm.time()\n",
    "        if last_time:\n",
    "            delta = current_time - last_time\n",
    "        else:\n",
    "            delta = current_time - current_time\n",
    "        last_time = tm.time()\n",
    "        yield (i, int(delta))\n",
    "        \n",
    "for i in gen1(data):\n",
    "    print(i)\n",
    "    tm.sleep(2)\n",
    "    \n",
    "    "
   ]
  },
  {
   "cell_type": "markdown",
   "id": "39265a66-d08b-41c7-8668-855d14d54471",
   "metadata": {},
   "source": [
    "### Задание 5.\n",
    "5.1 Найдите картинку в интернете и прикрепите её \n",
    "в ячейку с текстом\n",
    "5.2 Создайте следующую таблицу в ячейке с \n",
    "текстом"
   ]
  },
  {
   "cell_type": "markdown",
   "id": "b76890fb-f037-4174-a852-f462213a2ba7",
   "metadata": {},
   "source": [
    "<img scr=\"data:image https://megatronrus.ru/temp/img/goods/pic-91.jpg\">"
   ]
  },
  {
   "cell_type": "markdown",
   "id": "3a3264c5-c95e-4662-a130-f0ffe90ab883",
   "metadata": {},
   "source": [
    "<table>\n",
    "    <tr>\n",
    "        <td></td>\n",
    "        <td> До события</td>\n",
    "        <td>после события</td>\n",
    "    </tr>\n",
    "    <tr>\n",
    "        <td>1 контрольная точка</td>\n",
    "        <td>250</td>\n",
    "        <td>500</td>\n",
    "    </tr>\n",
    "    <tr>\n",
    "        <td>2 контрольная точка</td>\n",
    "        <td>350</td>\n",
    "        <td>700</td>\n",
    "    </tr>\n",
    "    <tr>\n",
    "        <td>3 контрольная точка</td>\n",
    "        <td>400</td>\n",
    "        <td>800</td>\n",
    "    </tr>\n",
    "    <tr>\n",
    "        <td>ИТОГО</td>\n",
    "        <td>1000</td>\n",
    "        <td>2000</td>\n",
    "    </tr>\n",
    "</table>\n"
   ]
  },
  {
   "cell_type": "markdown",
   "id": "8e65c91a-b4bb-4147-8e34-2b907b71af47",
   "metadata": {},
   "source": [
    "## Задание 6.\n",
    "##### Напишите функцию, которая может принимать любое количество трат пользователя и считать сумму и среднее.\n",
    "##### На вход поступают целочисленные значения в любом количестве\n",
    "##### На выходе словарь с ключами суммы трат и средней траты"
   ]
  },
  {
   "cell_type": "code",
   "execution_count": 24,
   "id": "77e77a34-c627-4e04-8aad-427066b637eb",
   "metadata": {},
   "outputs": [
    {
     "data": {
      "text/plain": [
       "{'sum': np.int64(15), 'avg': np.float64(3.0)}"
      ]
     },
     "execution_count": 24,
     "metadata": {},
     "output_type": "execute_result"
    }
   ],
   "source": [
    "import numpy as np\n",
    "def purchases(*args):\n",
    "    return {'sum': np.sum(args), 'avg': np.mean(args)}\n",
    "purchases(1, 2, 3, 4, 5)\n",
    "\n",
    "\n"
   ]
  },
  {
   "cell_type": "code",
   "execution_count": null,
   "id": "9634dd60-58fc-481f-81df-719220c1059f",
   "metadata": {},
   "outputs": [],
   "source": []
  }
 ],
 "metadata": {
  "kernelspec": {
   "display_name": "Python 3 (ipykernel)",
   "language": "python",
   "name": "python3"
  },
  "language_info": {
   "codemirror_mode": {
    "name": "ipython",
    "version": 3
   },
   "file_extension": ".py",
   "mimetype": "text/x-python",
   "name": "python",
   "nbconvert_exporter": "python",
   "pygments_lexer": "ipython3",
   "version": "3.12.3"
  }
 },
 "nbformat": 4,
 "nbformat_minor": 5
}
